{
 "cells": [
  {
   "cell_type": "markdown",
   "metadata": {},
   "source": [
    "##  Main Program for the Computing mini-project\n",
    "Author: Joel Pérez Ferrer\n",
    "\n",
    "SN: 18082660\n",
    "\n",
    "Year 2019-2020\n",
    "\n",
    "Group 7 (BrazilNuts), supervised by Zara Grout."
   ]
  },
  {
   "cell_type": "code",
   "execution_count": 13,
   "metadata": {},
   "outputs": [],
   "source": [
    "# Imports\n",
    "import numpy as np\n",
    "import matplotlib.pyplot as plt\n",
    "import random as rand"
   ]
  },
  {
   "cell_type": "code",
   "execution_count": 14,
   "metadata": {},
   "outputs": [],
   "source": [
    "# Here we will be defining some constants:\n",
    "radii = [0.5, 1.0]    # 0: regular nut, 1: Brazilian nut\n",
    "h_allocation = 1.0    # Distance between each nut in the set-up\n",
    "box_w = 5.0          # Width of the box"
   ]
  },
  {
   "cell_type": "code",
   "execution_count": 15,
   "metadata": {},
   "outputs": [],
   "source": [
    "def display_box(nuts, positions, show_axis):\n",
    "    \"\"\"\n",
    "    Displays the box of nuts.\n",
    "    \n",
    "    Args:\n",
    "        nuts: array describing the type of every nut. 0: regular 1: brazilian.\n",
    "        positions: 2D array describing the x and y coordinate of every nut.\n",
    "        show_axis: bool on whether or not to display labels and values in the axes.\n",
    "        \n",
    "    Returns:\n",
    "        Nothing, but outputs the rending in the screen.\n",
    "    \"\"\"\n",
    "    circle_list = []\n",
    "    for i in range(len(nuts)):\n",
    "        if nuts[i] == 1:\n",
    "            new_circle = plt.Circle(positions[i], radii[1], color='r')\n",
    "            circle_list.append(new_circle)\n",
    "        elif nuts[i] == 0:\n",
    "            new_circle = plt.Circle(positions[i], radii[0], color='r')\n",
    "            circle_list.append(new_circle)\n",
    "\n",
    "    fig, ax = plt.subplots(figsize=(5, 10))\n",
    "    \n",
    "    ax.set_xlim([0, box_w])\n",
    "    ax.set_ylim([0, 10])\n",
    "    \n",
    "    \n",
    "    for drawn_circle in circle_list:\n",
    "        ax.add_artist(drawn_circle)"
   ]
  },
  {
   "cell_type": "code",
   "execution_count": 16,
   "metadata": {},
   "outputs": [],
   "source": [
    "def initial_preparation(max_n, b_nut_chance):\n",
    "    \"\"\"\n",
    "    Prepares the initial set of nuts according to the document.\n",
    "    Always starts with a brazilian nut at the bottom.\n",
    "    \n",
    "    Args:\n",
    "        max_n: maximum number of nuts\n",
    "        b_nut_chance: chance for a nut to be brazilian\n",
    "    \n",
    "    Returns: \n",
    "        nuts: array of the types of nuts generated. 1 is brazilian, 0 is regular\n",
    "        positions: 2D array of the locations of the nuts\n",
    "    \"\"\"\n",
    "    nuts = np.zeros(max_n)\n",
    "    positions = np.zeros((max_n,2))\n",
    "    \n",
    "    current_h = radii[1]\n",
    "    nuts[0] = 1\n",
    "    positions[0] = np.array([rand.randrange(radii[1], box_w-radii[1]), current_h])\n",
    "    n = 1\n",
    "    current_h = radii[0] + radii[1]\n",
    "\n",
    "    \n",
    "    while n < max_n:\n",
    "        current_h += 2*radii[0]\n",
    "        nuts[n] = 0\n",
    "        positions[n] = np.array([rand.uniform(radii[0], box_w-radii[0]), current_h])\n",
    "        n += 1\n",
    "    return nuts, positions"
   ]
  },
  {
   "cell_type": "code",
   "execution_count": 17,
   "metadata": {},
   "outputs": [],
   "source": [
    "def check_overlap_walls(nut, position):\n",
    "    \"\"\"\n",
    "    Checks if a nut in a given position overlaps with the bottom or the sides of the box\n",
    "    \n",
    "    Args: \n",
    "        nut: type of the nut\n",
    "        position: array of the x and y coordinates of the nut\n",
    "    Returns:\n",
    "        bool True if the nut overlaps with the walls of the box\n",
    "    \"\"\"\n",
    "    if position[0] >= radii[int(nut)] and position[0] <= box_w-radii[int(nut)] and position[1] > radii[int(nut)]:\n",
    "        return False\n",
    "    else: \n",
    "        return True"
   ]
  },
  {
   "cell_type": "code",
   "execution_count": 18,
   "metadata": {},
   "outputs": [],
   "source": [
    "def check_overlap_nuts(nut1, position1, nut2, position2):\n",
    "    \"\"\"\n",
    "    Checks if two nuts in the given positions overlap with each other \n",
    "    \n",
    "    Args: \n",
    "        nut1: type of the first nut\n",
    "        position1: array of the x and y coordinates of the first nut \n",
    "        nut2: type of the second nut\n",
    "        position2: array of the x and y coordinates of the second nut \n",
    "    \"\"\"\n",
    "    if np.sqrt((position1[0]-position2[0])**2 + (position1[1]-position2[1])**2) > (radii[int(nut1)]+radii[int(nut2)]):\n",
    "        return False\n",
    "    else: \n",
    "        return True"
   ]
  },
  {
   "cell_type": "code",
   "execution_count": 19,
   "metadata": {},
   "outputs": [],
   "source": [
    "def largest_nearest_neighbor(nuts, positions):\n",
    "    \"\"\"\n",
    "    Returns the largest possible shortest distance between the given array of particles.\n",
    "    \n",
    "    Args:\n",
    "        nuts: array containing the types of nuts\n",
    "        positions: array containing the x and y corrdinates of the positions of the nuts\n",
    "    Returns:\n",
    "        largest_distance: largest distance found\n",
    "        a: index of the first nut\n",
    "        b: index of the second nut\n",
    "    \"\"\"\n",
    "    largest_distance = 0\n",
    "    a = 0\n",
    "    b = 0\n",
    "    for i in range(len(nuts)):\n",
    "        for j in  range(len(nuts)):\n",
    "            dij = np.sqrt((positions[i][0]-positions[j][0]-radii[int(nuts[i])]-radii[int(nuts[j])])**2 + (positions[i][1]-positions[j][1]-radii[int(nuts[i])]-radii[int(nuts[j])])**2)\n",
    "            if dij > largest_distance:\n",
    "                largest_distance = dij\n",
    "                a = i\n",
    "                b = j \n",
    "    return largest_distance, a, b"
   ]
  },
  {
   "cell_type": "code",
   "execution_count": 20,
   "metadata": {},
   "outputs": [],
   "source": [
    "def energy(positions):\n",
    "    \"\"\"\n",
    "    Calculates E/mg of the system given the positions of the nuts\n",
    "    \n",
    "    Args: \n",
    "        positions: x and y coordinates of the nuts\n",
    "    Returns:\n",
    "        Sum of E/mg for all the nuts in the system \n",
    "    \"\"\"\n",
    "    energy = 0\n",
    "    for position in positions:\n",
    "        energy += position[1]\n",
    "    return energy"
   ]
  },
  {
   "cell_type": "code",
   "execution_count": 26,
   "metadata": {},
   "outputs": [
    {
     "data": {
      "image/png": "[encoded data removed]",
      "text/plain": [
       "<Figure size 360x720 with 1 Axes>"
      ]
     },
     "metadata": {
      "needs_background": "light"
     },
     "output_type": "display_data"
    },
    {
     "data": {
      "image/png": "[encoded data removed]",
      "text/plain": [
       "<Figure size 360x720 with 1 Axes>"
      ]
     },
     "metadata": {
      "needs_background": "light"
     },
     "output_type": "display_data"
    }
   ],
   "source": [
    "# Monte Carlo method\n",
    "\n",
    "max_n = 10\n",
    "nuts, positions = initial_preparation(max_n, 0)\n",
    "display_box(nuts, positions,0)\n",
    "\n",
    "iters = 0\n",
    "while iters < 30:\n",
    "    iters += 1\n",
    "    max_step_length = largest_nearest_neighbor(nuts,positions)[0]\n",
    "    inner_iters = 0\n",
    "    while inner_iters < 100:\n",
    "        inner_iters += 1\n",
    "        current = rand.randrange(max_n)\n",
    "        x_step = rand.uniform(- max_step_length, max_step_length)\n",
    "        y_step = rand.uniform(- max_step_length, 0)\n",
    "        new_positions = np.copy(positions)\n",
    "        new_nuts = np.copy(nuts)\n",
    "        new_positions[current] = [new_positions[current][0]+x_step, new_positions[current][1]+y_step]\n",
    "        nuts_to_check = np.delete(new_nuts, current)\n",
    "        positions_to_check = np.delete(new_positions,current, axis=0)\n",
    "        \n",
    "        # Testing for overlap with walls\n",
    "        if check_overlap_walls(nuts[current], new_positions[current]):\n",
    "                continue\n",
    "        \n",
    "        # Testing for collisions\n",
    "        passed_collisions = True        \n",
    "        for i in range(len(nuts_to_check)):\n",
    "            if check_overlap_nuts(nuts_to_check[i], positions_to_check[i], nuts[current], new_positions[current]):\n",
    "                passed_collisions = False\n",
    "                continue\n",
    "        if not passed_collisions:\n",
    "            continue\n",
    "        \n",
    "        # Test for energy:\n",
    "        if energy(positions) > energy(new_positions):\n",
    "            positions = new_positions\n",
    "            valid_move = True\n",
    "display_box(nuts, positions,0)\n"
   ]
  },
  {
   "cell_type": "code",
   "execution_count": null,
   "metadata": {},
   "outputs": [],
   "source": []
  }
 ],
 "metadata": {
  "kernelspec": {
   "display_name": "Python 3",
   "language": "python",
   "name": "python3"
  },
  "language_info": {
   "codemirror_mode": {
    "name": "ipython",
    "version": 3
   },
   "file_extension": ".py",
   "mimetype": "text/x-python",
   "name": "python",
   "nbconvert_exporter": "python",
   "pygments_lexer": "ipython3",
   "version": "3.7.1"
  }
 },
 "nbformat": 4,
 "nbformat_minor": 2
}
